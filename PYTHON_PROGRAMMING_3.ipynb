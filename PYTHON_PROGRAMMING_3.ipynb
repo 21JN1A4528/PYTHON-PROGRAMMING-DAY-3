{
  "nbformat": 4,
  "nbformat_minor": 0,
  "metadata": {
    "colab": {
      "provenance": []
    },
    "kernelspec": {
      "name": "python3",
      "display_name": "Python 3"
    },
    "language_info": {
      "name": "python"
    }
  },
  "cells": [
    {
      "cell_type": "markdown",
      "source": [
        "**USING SWAP CASE**"
      ],
      "metadata": {
        "id": "Kjt9iok7D39Z"
      }
    },
    {
      "cell_type": "code",
      "source": [
        "Str =input()\n",
        "print(Str.swapcase())"
      ],
      "metadata": {
        "colab": {
          "base_uri": "https://localhost:8080/"
        },
        "id": "L3trNexGEA4c",
        "outputId": "0cf1561a-7747-4dc4-e3f3-92b6a41e22f4"
      },
      "execution_count": 1,
      "outputs": [
        {
          "output_type": "stream",
          "name": "stdout",
          "text": [
            "Maha\n",
            "mAHA\n"
          ]
        }
      ]
    },
    {
      "cell_type": "markdown",
      "source": [
        "**CONVERT LOWER TO UPPER AND UPPER TO LOWER**"
      ],
      "metadata": {
        "id": "twU_ex8AERBD"
      }
    },
    {
      "cell_type": "code",
      "source": [
        "str= input()\n",
        "str1=\" \"\n",
        "for i in str:\n",
        "  if i.isupper():\n",
        "    i=i.lower()\n",
        "    str1+=i\n",
        "  else:\n",
        "    i=i.upper()\n",
        "    str1+=i\n",
        "print(str1)"
      ],
      "metadata": {
        "colab": {
          "base_uri": "https://localhost:8080/"
        },
        "id": "k5mxrLSxEdoR",
        "outputId": "fed4a80c-8c48-4b7b-f2f0-e2e43aafcea2"
      },
      "execution_count": 7,
      "outputs": [
        {
          "output_type": "stream",
          "name": "stdout",
          "text": [
            "katepallI\n",
            " KATEPALLi\n"
          ]
        }
      ]
    },
    {
      "cell_type": "markdown",
      "source": [
        "**CHANGE FIRST AND LAST LETTER TO UPPER CASE**"
      ],
      "metadata": {
        "id": "iwdfpQ2VGgEY"
      }
    },
    {
      "cell_type": "code",
      "source": [
        "str=input()\n",
        "str=str[0].upper()+str[1:len(str)-1]+str[len(str)-1].upper()\n",
        "print(str)"
      ],
      "metadata": {
        "colab": {
          "base_uri": "https://localhost:8080/"
        },
        "id": "LaFXZyzHFiAn",
        "outputId": "623404e0-d2a4-4f7e-ebcc-a329525a3906"
      },
      "execution_count": 10,
      "outputs": [
        {
          "output_type": "stream",
          "name": "stdout",
          "text": [
            "Orange\n",
            "OrangE\n"
          ]
        }
      ]
    },
    {
      "cell_type": "markdown",
      "source": [
        "**CASE**"
      ],
      "metadata": {
        "id": "F-eOIBJiHNsx"
      }
    },
    {
      "cell_type": "code",
      "source": [
        "str=input()\n",
        "words=str.split()\n",
        "cap_words=[]\n",
        "for word in words:\n",
        "  if len(word)>1:\n",
        "     cap_words.append(word [0].upper()+word [1:len (word)-1]+word [len (word)-1].upper())\n",
        "  else:\n",
        "     cap_words=word.upper()\n",
        "     cap_words.append(cap_words)\n",
        "print(\" \".join(cap_words))\n"
      ],
      "metadata": {
        "colab": {
          "base_uri": "https://localhost:8080/"
        },
        "id": "LGMQ2yFCGupx",
        "outputId": "6fc948f1-90ea-4052-bc97-8337057eee35"
      },
      "execution_count": 19,
      "outputs": [
        {
          "output_type": "stream",
          "name": "stdout",
          "text": [
            "orange is fruit and colour\n",
            "OrangE IS FruiT AnD ColouR\n"
          ]
        }
      ]
    },
    {
      "cell_type": "markdown",
      "source": [
        "****"
      ],
      "metadata": {
        "id": "BfSgnGC9HXmB"
      }
    },
    {
      "cell_type": "markdown",
      "source": [
        "**REVERSE A STRING**"
      ],
      "metadata": {
        "id": "7Rdh5pvuJmVL"
      }
    },
    {
      "cell_type": "code",
      "source": [
        "str=input()\n",
        "print(str[::-1])"
      ],
      "metadata": {
        "colab": {
          "base_uri": "https://localhost:8080/"
        },
        "id": "2fwrzjnpJuoh",
        "outputId": "00dcda13-0d0d-45c9-8d45-d619eec07d88"
      },
      "execution_count": 20,
      "outputs": [
        {
          "output_type": "stream",
          "name": "stdout",
          "text": [
            "phone\n",
            "enohp\n"
          ]
        }
      ]
    },
    {
      "cell_type": "code",
      "source": [
        "str=input()\n",
        "str1=\" \"\n",
        "for i in str:\n",
        "  str1=i+str1\n",
        "print(str1)"
      ],
      "metadata": {
        "colab": {
          "base_uri": "https://localhost:8080/"
        },
        "id": "qMMTin0rJ3Ep",
        "outputId": "8a34f219-da27-45b9-af32-6bea52e19f87"
      },
      "execution_count": 21,
      "outputs": [
        {
          "output_type": "stream",
          "name": "stdout",
          "text": [
            "TELUGU\n",
            "UGULET \n"
          ]
        }
      ]
    },
    {
      "cell_type": "code",
      "source": [
        "str=input()\n",
        "words=str.split()\n",
        "rev_words=words[::-1]\n",
        "print(\" \".join(rev_words))"
      ],
      "metadata": {
        "colab": {
          "base_uri": "https://localhost:8080/"
        },
        "id": "Yr3UbVRoKIGz",
        "outputId": "309c650b-7b62-424b-ecde-63cd16aa3955"
      },
      "execution_count": 22,
      "outputs": [
        {
          "output_type": "stream",
          "name": "stdout",
          "text": [
            "you are a good girl\n",
            "girl good a are you\n"
          ]
        }
      ]
    }
  ]
}